{
 "cells": [
  {
   "cell_type": "markdown",
   "id": "a3e77665-0852-46a3-9f48-5450c301df37",
   "metadata": {},
   "source": [
    "# Demo 1: Brno 2023\n",
    "\n",
    "Reálná situace v Brně na jaře 2023: 137 školek a přibližně 3200 dětí. "
   ]
  },
  {
   "cell_type": "markdown",
   "id": "7d297ac0-c6ad-4929-819f-3993b5d9cc75",
   "metadata": {},
   "source": [
    "## Výroba datasetu\n",
    "Skript vygeneruje 3200 hráčů-uchazečů ve věku 2 až 7 let s náhodným datem narození, spádovou školkou a dalšími atributy převzatými z reálného přihlašovacího formuláře z webu zapisdoms.brno.cz. \n"
   ]
  },
  {
   "cell_type": "code",
   "execution_count": 14,
   "id": "d506b495-c388-4bf0-9c3e-a6d00ea4ac30",
   "metadata": {},
   "outputs": [
    {
     "name": "stdout",
     "output_type": "stream",
     "text": [
      "Náhodně vybraný hráč: \n",
      "{'jmeno': 'Tereza Tesařová', 'pohlavi': 'F', 'datum_narozeni': datetime.date(2017, 1, 15), 'spadova_skolka': 28, 'skolka_sourozence': None, 'bydliste_brno': True, 'prodlouzena_dochazka': False}\n"
     ]
    }
   ],
   "source": [
    "\n",
    "import csv\n",
    "import datetime\n",
    "from dateutil.relativedelta import relativedelta\n",
    "import random\n",
    "import pandas as pd\n",
    "import copy\n",
    "\n",
    "random.seed(11)\n",
    "\n",
    "skolky_spadove = 135    # běžné školky\n",
    "skolky_vse = 137   # 2 školky mají jako spádovou oblast celé Brno\n",
    "\n",
    "def get_random_birthday():    # vymyslet korekci - zvysit pocet 3 a 4 letych na ukor starsich - ti uz v nejake skolce jsou z vetsiny...\n",
    "    # Fuknce generuje náhodná data narození dětí ve věku 2 až 7 let. \n",
    "    today = datetime.date.today()\n",
    "    current_year = today.year\n",
    "    birthday_range = datetime.date(current_year-2, 8, 30) - datetime.date(current_year-7, 5, 31)    # (current_year-7, 5, 31) je vysledkem odhadu\n",
    "    random_integer = random.randint(0, birthday_range.days)\n",
    "    random_birthday = datetime.date(current_year-2, 8, 30) - relativedelta(days = random_integer)\n",
    "    return random_birthday\n",
    "random_birthday = get_random_birthday()\n",
    "\n",
    "def get_random_school():\n",
    "    # Funkce generuje náhodnou spádovou školku. U desetiny uchazečů vygeneruje také školku, kam chodí starší sourozenec.\n",
    "    spadova_skolka = random.randint(0, skolky_spadove-1)   \n",
    "    random_number = random.randint(1, 1000)\n",
    "    if random_number%10 == 0:                         \n",
    "        skolka_sourozence = spadova_skolka\n",
    "    if random_number%20 == 0:\n",
    "        skolka_sourozence = random.randint(1, skolky_vse-1)  \n",
    "    else:\n",
    "        skolka_sourozence = None                 \n",
    "    return spadova_skolka, skolka_sourozence\n",
    "\n",
    "je_bydliste_Brno = lambda x: False if x%21 == 0 else True  \n",
    "# Funkce u většiny uchazečů určí jako místo bydliště Brno. Počet brněnských vs. mimobrněnských je výsledkem odhadu.\n",
    "\n",
    "je_prodlouzena_dochazka = lambda x: True if x%33 == 0 else False   \n",
    "# Funkce u většiny dětí zvolí, že nepožadují prodlouženou docházku. Počet je opět vysledkem odhadu. \n",
    "\n",
    "def get_names(jmena_divky, jmena_hosi):\n",
    "    # vyrobi jména fiktivním uchazečům. Vstupem jsou nejběžnější česká a slovenská křestní jména a příjmení.\n",
    "    first_names_0, surnames_0 = [], []\n",
    "    with open(jmena_divky, newline='') as file:\n",
    "        fi = csv.reader(file, delimiter=';')\n",
    "        for line in fi:\n",
    "            first_names_0.append(line[0])\n",
    "            surnames_0.append(line[1])\n",
    "    girls = [{'jmeno': i + ' ' + ii} for i in first_names_0 for ii in surnames_0]\n",
    "\n",
    "    first_names_1, surnames_1 = [], []\n",
    "    with open(jmena_hosi, newline='') as file:\n",
    "        f = csv.reader(file, delimiter=';')\n",
    "        for line in f:\n",
    "            first_names_1.append(line[0])\n",
    "            surnames_1.append(line[1])\n",
    "    boys = [{'jmeno': i + ' ' + ii} for i in first_names_1 for ii in surnames_1]\n",
    "\n",
    "    return girls, boys\n",
    "    \n",
    "girls, boys = get_names('dummy_input_data/divky.csv', 'dummy_input_data/hosi.csv')\n",
    "\n",
    "for i in boys:\n",
    "    i['pohlavi'] = 'M'\n",
    "for i in girls:\n",
    "    i['pohlavi'] = 'F'\n",
    "\n",
    "children = boys + girls\n",
    "\n",
    "for i in children:\n",
    "    i['datum_narozeni'] = get_random_birthday()\n",
    "    i['spadova_skolka'] = get_random_school()[0]\n",
    "    i['skolka_sourozence'] = get_random_school()[1]\n",
    "    i['bydliste_brno'] = je_bydliste_Brno(random.randint(1, 1000))\n",
    "    i['prodlouzena_dochazka'] = je_prodlouzena_dochazka(random.randint(1, 1000))\n",
    "\n",
    "print(\"Náhodně vybraný uchazeč: \")\n",
    "random.seed(None)\n",
    "print(random.choice(children))\n"
   ]
  },
  {
   "cell_type": "markdown",
   "id": "fc58999d-2592-4055-a3a2-e9cea3b18245",
   "metadata": {},
   "source": [
    "## Uchazeči si vybírají školky\n",
    "Každý uchazeč se může přihlásit, do kolika školek chce. Volí si je formou prioritního seznamu, kde nejoblíbenější školka je na pozici 1 a tak dál. "
   ]
  },
  {
   "cell_type": "code",
   "execution_count": 23,
   "id": "20420304-df04-4d8c-986f-524ffc13d7a6",
   "metadata": {},
   "outputs": [],
   "source": [
    "\n",
    "random.seed(12)\n",
    "\n",
    "def get_priorities(deti_list, pocet_skolek):\n",
    "    # Fuknce simuluje výběr oblíbených školek tím, že přiřadí uchazeči náhodný seznam. Počet položek je také náhodný.\n",
    "    # Funkce zohledňuje spádovost a školku sourozence.\n",
    "    with open('prihlasky.csv', 'w') as file:\n",
    "        writer = csv.DictWriter(file, fieldnames = ['dite', 'skolka', 'poradi'])\n",
    "        writer.writeheader()\n",
    "        for _ in range(len(deti_list)):\n",
    "            vybrane_skolky = set()   \n",
    "            pocet_prihlasek = random.randint(1, pocet_skolek)    # tady lze omezit, kolik přihlášet může každý podat\n",
    "            for i in range(pocet_prihlasek):\n",
    "                if i == 0:\n",
    "                    vybrane_skolky.add(str(deti_list[_]['spadova_skolka']))\n",
    "                if (i == 1 and deti_list[_]['skolka_sourozence'] != None):\n",
    "                    vybrane_skolky.add(str(deti_list[_]['skolka_sourozence']))\n",
    "                else:\n",
    "                    vybrane_skolky.add(str(random.randint(0, pocet_skolek-1)))\n",
    "            vybrane_skolky = list(vybrane_skolky) \n",
    "            for index, value in enumerate(vybrane_skolky):\n",
    "                d = {'dite': str(_), 'skolka': value, 'poradi': index + 1}\n",
    "                writer.writerow(d)\n",
    "        return\n",
    "get_priorities(children, skolky_vse)\n",
    "\n",
    "children_df = pd.DataFrame(children)\n",
    "new_col = children_df.index\n",
    "children_df.insert(0, 'id_dite', new_col)\n",
    "# children_df.to_csv('deti.csv')\n"
   ]
  },
  {
   "cell_type": "markdown",
   "id": "391576ab-e8d6-4829-a3ef-9ea13d1bafda",
   "metadata": {},
   "source": [
    "Ve výsledku má každý uchazeč k sobě přiřazený seznam svých školek, seřazený podle oblíbenosti. Uchazeči i školky jsou reprezentovány svým ID:"
   ]
  },
  {
   "cell_type": "code",
   "execution_count": 27,
   "id": "1961b608-b90d-4e3b-ac4a-9f71e7b9a330",
   "metadata": {},
   "outputs": [
    {
     "name": "stdout",
     "output_type": "stream",
     "text": [
      "dite\n",
      "0       [34, 4, 95, 109, 102, 36, 128, 63, 88, 131, 11...\n",
      "1       [33, 100, 34, 50, 4, 14, 36, 128, 63, 88, 90, ...\n",
      "10      [34, 100, 50, 95, 81, 109, 14, 102, 128, 63, 8...\n",
      "100     [33, 100, 4, 81, 14, 102, 128, 90, 118, 67, 11...\n",
      "1000    [34, 4, 102, 36, 128, 63, 88, 115, 90, 118, 6,...\n",
      "                              ...                        \n",
      "995     [33, 48, 35, 4, 20, 58, 12, 65, 72, 54, 112, 6...\n",
      "996     [117, 42, 119, 0, 73, 124, 89, 120, 65, 46, 14...\n",
      "997     [34, 100, 101, 19, 93, 124, 81, 44, 121, 25, 6...\n",
      "998     [34, 66, 35, 109, 102, 63, 59, 75, 73, 130, 12...\n",
      "999     [74, 100, 48, 70, 66, 35, 50, 4, 135, 109, 107...\n",
      "Name: skolka, Length: 3200, dtype: object\n"
     ]
    }
   ],
   "source": [
    "def get_priorities():\n",
    "    prihlasky_df = pd.read_csv('prihlasky.csv')    # toto neni nutne... ukladat do a pak zase otevirat z CSV\n",
    "    prihlasky_copy = prihlasky_df.copy()\n",
    "    prihlasky_copy['dite'] = prihlasky_copy['dite'].astype('str')\n",
    "    prihlasky_copy['skolka'] = prihlasky_copy['skolka'].astype('str')\n",
    "    prihlasky_groupedby_kids = prihlasky_copy.groupby('dite')['skolka'].agg(list)\n",
    "    return prihlasky_groupedby_kids       # ==================== ko. 34?  Vyrobit rovnou demo 2 s miniseznamem \n",
    "priorities = get_priorities()\n",
    "print(priorities)\n"
   ]
  },
  {
   "cell_type": "markdown",
   "id": "e4e5f665-020f-4ca8-b5b2-9e708c407ec8",
   "metadata": {},
   "source": []
  },
  {
   "cell_type": "code",
   "execution_count": null,
   "id": "52b6525e-4bc8-4d3b-abf2-9c0fa4e9d490",
   "metadata": {},
   "outputs": [],
   "source": [
    "\n",
    "\n",
    "\n"
   ]
  }
 ],
 "metadata": {
  "kernelspec": {
   "display_name": "Python 3",
   "language": "python",
   "name": "python3"
  },
  "language_info": {
   "codemirror_mode": {
    "name": "ipython",
    "version": 3
   },
   "file_extension": ".py",
   "mimetype": "text/x-python",
   "name": "python",
   "nbconvert_exporter": "python",
   "pygments_lexer": "ipython3",
   "version": "3.11.0"
  }
 },
 "nbformat": 4,
 "nbformat_minor": 5
}
