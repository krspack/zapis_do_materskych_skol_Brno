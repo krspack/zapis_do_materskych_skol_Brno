{
 "cells": [
  {
   "cell_type": "markdown",
   "id": "5357ed3c-a267-4852-b878-90d306211a5e",
   "metadata": {},
   "source": [
    "## Výběr školky\n",
    "\n",
    "Každý \"hráč\" se může přihlásit, do kolika školek chce, přesně tak, jak je tomu dnes v Brně. Teoreticky je tedy možné, že se všech 3200 dětí přihlásí do 137 školek, jejichž ředitelé/ky budou muset dohromady řešit 438 400 správních řízení. Tento scénář není reálný, ale ve skutečnosti není výjimkou, že rodiče hlásí svoje děti do desítek školek, aby se dostali alespoň do jedné. \n",
    "\n",
    "===\n",
    "Ilustrovat na demopříkladech následující situace: \n",
    "Pokud hráč zvolí jenom jednu školku, zvyšuje tím svoji šanci, že se do ní dostane? \n",
    "Ve městě je hrstka školek, kam chtějí skoro všichni. Jak se algoritmus vypořádá s tím, když každý bude mít na prvním místě stejnou školku?\n",
    "Co se stane, když se hráč nedostane do žádné školky na svém seznamu?\n",
    "\n",
    "\n",
    "\n",
    "\n",
    "\n"
   ]
  },
  {
   "cell_type": "code",
   "execution_count": 1,
   "id": "b95bba7e-f6dc-4eee-82cc-9b21d43cd00f",
   "metadata": {},
   "outputs": [
    {
     "name": "stdout",
     "output_type": "stream",
     "text": [
      "438400\n"
     ]
    }
   ],
   "source": [
    "print(3200*137)\n"
   ]
  },
  {
   "cell_type": "code",
   "execution_count": null,
   "id": "ebb2be53-63b9-4d5d-a4e0-db3be44e39ad",
   "metadata": {},
   "outputs": [],
   "source": []
  }
 ],
 "metadata": {
  "kernelspec": {
   "display_name": "Python 3",
   "language": "python",
   "name": "python3"
  },
  "language_info": {
   "codemirror_mode": {
    "name": "ipython",
    "version": 3
   },
   "file_extension": ".py",
   "mimetype": "text/x-python",
   "name": "python",
   "nbconvert_exporter": "python",
   "pygments_lexer": "ipython3",
   "version": "3.11.0"
  }
 },
 "nbformat": 4,
 "nbformat_minor": 5
}
